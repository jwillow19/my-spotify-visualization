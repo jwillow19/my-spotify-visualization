{
 "cells": [
  {
   "cell_type": "code",
   "execution_count": 4,
   "metadata": {},
   "outputs": [],
   "source": [
    "import base64\n",
    "import requests\n",
    "import datetime"
   ]
  },
  {
   "cell_type": "code",
   "execution_count": 5,
   "metadata": {},
   "outputs": [],
   "source": [
    "client_id = 'e0e28223bd454165b3325a6fde65ddf4'\n",
    "client_secret = '4adf45b1909c4f4683923afc5f46605e'"
   ]
  },
  {
   "cell_type": "code",
   "execution_count": 13,
   "metadata": {},
   "outputs": [],
   "source": [
    "class SpotifyAPI(object):\n",
    "    # Placeholder for attributes    \n",
    "    access_token = None\n",
    "    access_token_expires = datetime.datetime.now()\n",
    "    access_token_did_expire = True\n",
    "    client_id = None\n",
    "    client_secret= None\n",
    "    token_endpoint = 'https://accounts.spotify.com/api/token'\n",
    "    \n",
    "    def __init__(self, client_id, client_secret, *args, **kwargs):\n",
    "        # super init - allows it to call any class that its inheriting from        \n",
    "        super().__init__(*args, **kwargs)\n",
    "        self.client_id = client_id\n",
    "        self.client_secret = client_secret\n",
    "    \n",
    "    def get_client_credentials(self):\n",
    "        '''\n",
    "        Returns a base64 encoded string\n",
    "        '''\n",
    "        client_id = self.client_id\n",
    "        client_secret = self.client_secret\n",
    "        if client_id == None or client_secret == None:\n",
    "            raise Exception(\"Must set client_id and client_secret\")\n",
    "        client_cred = f\"{client_id}:{client_secret}\"\n",
    "        client_cred_b64 = base64.b64encode(client_cred.encode())\n",
    "        return client_cred_b64.decode()\n",
    "    \n",
    "    def get_token_headers(self):\n",
    "        client_cred_b64 = self.get_client_credentials()\n",
    "        return {\n",
    "        \"Authorization\": f\"Basic {client_cred_b64}\"\n",
    "    }\n",
    "    \n",
    "    \n",
    "    def get_token_data(self):\n",
    "        return {\n",
    "        \"grant_type\": \"client_credentials\"\n",
    "    }\n",
    "    \n",
    "    def auth(self):\n",
    "        token_endpoint = self.token_endpoint\n",
    "        token_data = self.get_token_data()\n",
    "        token_headers = self.get_token_headers()\n",
    "        \n",
    "        r = requests.post(token_endpoint, data=token_data, headers=token_headers)\n",
    "\n",
    "        if r.status_code not in range(200, 299):\n",
    "            return False\n",
    "        \n",
    "        print(f\"Status Code: {r.status_code}\")\n",
    "        now = datetime.datetime.now()\n",
    "        token_response = r.json()\n",
    "        access_token = token_response['access_token']\n",
    "        expires_in = token_response['expires_in'] # in seconds\n",
    "        expires = now + datetime.timedelta(seconds=expires_in) # use datetime to calculate the time of expiration\n",
    "        \n",
    "        self.access_token = access_token \n",
    "        self.access_token_expires = expires\n",
    "        self.access_token_did_expire = expires < now\n",
    "        return True\n"
   ]
  },
  {
   "cell_type": "code",
   "execution_count": 14,
   "metadata": {},
   "outputs": [
    {
     "name": "stdout",
     "output_type": "stream",
     "text": [
      "Status Code: 200\n"
     ]
    },
    {
     "data": {
      "text/plain": [
       "'BQAJT4cIjvowTwkjrTCO2KtOi6-SLVKG_Rs0NMfE7KTkGMHf28U5GRsfboQPIAU655G8z6TvTn7qWBVCbPA'"
      ]
     },
     "execution_count": 14,
     "metadata": {},
     "output_type": "execute_result"
    }
   ],
   "source": [
    "client = SpotifyAPI(client_id, client_secret)\n",
    "client.auth()\n",
    "client.access_token"
   ]
  },
  {
   "cell_type": "code",
   "execution_count": null,
   "metadata": {},
   "outputs": [],
   "source": []
  }
 ],
 "metadata": {
  "kernelspec": {
   "display_name": "Python 3",
   "language": "python",
   "name": "python3"
  },
  "language_info": {
   "codemirror_mode": {
    "name": "ipython",
    "version": 3
   },
   "file_extension": ".py",
   "mimetype": "text/x-python",
   "name": "python",
   "nbconvert_exporter": "python",
   "pygments_lexer": "ipython3",
   "version": "3.8.5"
  }
 },
 "nbformat": 4,
 "nbformat_minor": 4
}
