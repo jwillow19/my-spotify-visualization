{
 "cells": [
  {
   "cell_type": "code",
   "execution_count": 1,
   "metadata": {},
   "outputs": [],
   "source": [
    "import sqlite3\n",
    "import os\n",
    "import csv\n"
   ]
  },
  {
   "cell_type": "code",
   "execution_count": 34,
   "metadata": {},
   "outputs": [
    {
     "name": "stdout",
     "output_type": "stream",
     "text": [
      "/home/jwillow/Documents/Data Science/Spotify-Explore\r\n"
     ]
    }
   ],
   "source": [
    "!pwd"
   ]
  },
  {
   "cell_type": "code",
   "execution_count": 192,
   "metadata": {},
   "outputs": [],
   "source": [
    "class Database(object):\n",
    "    def __init__(self, dbFileName, *args, **kwargs):\n",
    "        super().__init__(*args, **kwargs)\n",
    "        \n",
    "        self._dbFile = dbFileName\n",
    "\n",
    "        fileExist = self.exists()\n",
    "        if fileExist:\n",
    "            self.conn = sqlite3.connect(dbFileName)\n",
    "            self.cur = self.conn.cursor()\n",
    "            \n",
    "    @property\n",
    "    def dbFile(self):\n",
    "        return self._dbFile\n",
    "    \n",
    "    @property\n",
    "    def tables(self):\n",
    "        self.cur.execute(\"SELECT name FROM sqlite_master WHERE type='table'\")\n",
    "        return self.cur.fetchall()\n",
    "    \n",
    "    def exists(self):\n",
    "        dbFileName = self._dbFile\n",
    "        return os.path.exists(dbFileName)\n",
    "    \n",
    "    def fetch_all(self):\n",
    "        try:\n",
    "            table = self.table\n",
    "            self.cur.execute(f\"select * from `{table}`\")\n",
    "            return self.cur.fetchall()[1:]\n",
    "        \n",
    "        except AttributeError as e:\n",
    "            print(\"No table selected. Select a table from DB first.\")\n",
    "            raise\n",
    "#             raise Exception('Select a table first')\n",
    "            \n",
    "    \n",
    "    def select_table(self, table):\n",
    "        self.table = table\n",
    "        \n",
    "    def top_artists(self, limit=10):\n",
    "        '''\n",
    "        Using format string to declare table name and Parameter markers only for expressions, i.e., values\n",
    "        '''\n",
    "        table = self.table\n",
    "        self.cur.execute(\n",
    "            f\"SELECT by, count(*) FROM `{table}` GROUP BY by ORDER BY count(*) DESC LIMIT ?\", \n",
    "                (limit, ))\n",
    "        return self.cur.fetchall()\n",
    "    \n",
    "    def top_tracks(self, limit=5):\n",
    "        '''\n",
    "        Using format string to declare table name and Parameter markers only for expressions, i.e., values\n",
    "        '''\n",
    "        table = self.table\n",
    "        \n",
    "        self.cur.execute(\n",
    "            f\"\"\"SELECT track_name, by, count(track_name) AS track_occurance\n",
    "                FROM `{table}`\n",
    "                GROUP BY track_name, by\n",
    "                ORDER BY track_occurance desc\n",
    "                LIMIT ?\"\"\", \n",
    "                (10, ))\n",
    "        return self.cur.fetchall()\n",
    "    \n",
    "    \n",
    "    def top_albums(self, limit=5):\n",
    "        '''\n",
    "        PROBLEM: query DOES NOT count for repeating tracks - If song X appears in table twice it will count the album twice \n",
    "        '''\n",
    "        table = self.table\n",
    "        \n",
    "        self.cur.execute(f\"\"\"\n",
    "        SELECT album_name, by, count(album_name) as occurance\n",
    "        FROM `{table}`\n",
    "        GROUP BY album_name\n",
    "        ORDER BY occurance DESC\n",
    "        LIMIT ?\n",
    "        \"\"\", (limit,))\n",
    "        return self.cur.fetchall()\n",
    "    \n",
    "    \n",
    "    def hipster_rating(self, year):\n",
    "        '''\n",
    "        Finds the average popularity score of songs from a specific year\n",
    "        '''\n",
    "        self.cur.execute(f\"\"\"\n",
    "        SELECT AVG(album_popularity) \n",
    "        FROM `{table}`\n",
    "        WHERE year=?\n",
    "        \"\"\", (year, ))\n",
    "        return self.cur.fetchone()[0]\n",
    "    \n",
    "    def average_duration(self, year):\n",
    "        '''\n",
    "        Finds the average song duration from specific year\n",
    "        '''\n",
    "        self.cur.execute(f\"\"\"\n",
    "        SELECT AVG(duration) \n",
    "        FROM `{table}`\n",
    "        WHERE year=?\n",
    "        \"\"\", (year, ))\n",
    "        duration_seconds = self.cur.fetchone()[0]\n",
    "        minutes = round(duration_seconds) // 60\n",
    "        seconds = round(duration_seconds) % 60\n",
    "        print(f'{minutes}:{seconds}')\n",
    "    \n",
    "    \n",
    "    ## Python destructor..  \n",
    "    #     For the database,  when the reference to object to the object is deleted,  the connection should be closed\n",
    "    def __del__(self):\n",
    "        self.conn.close()"
   ]
  },
  {
   "cell_type": "code",
   "execution_count": 193,
   "metadata": {},
   "outputs": [
    {
     "name": "stdout",
     "output_type": "stream",
     "text": [
      "3:17\n"
     ]
    }
   ],
   "source": [
    "dbFile = './db/spotify.sqlite'\n",
    "SpotifyDB = Database(dbFile)\n",
    "\n",
    "# Lookup tables in DB\n",
    "main_table = SpotifyDB.tables[0][0]\n",
    "\n",
    "# Select a table to explore from DB\n",
    "SpotifyDB.select_table(main_table)\n",
    "\n",
    "# fetch all records from table\n",
    "all_songs = SpotifyDB.fetch_all()\n",
    "\n",
    "top_artists = SpotifyDB.top_artists(20)\n",
    "top_tracks = SpotifyDB.top_tracks();\n",
    "top_album = SpotifyDB.top_albums(10); top_album\n",
    "hipster_rate_2019 = SpotifyDB.hipster_rating(2019);\n",
    "SpotifyDB.average_duration(2019)"
   ]
  }
 ],
 "metadata": {
  "kernelspec": {
   "display_name": "Python 3",
   "language": "python",
   "name": "python3"
  },
  "language_info": {
   "codemirror_mode": {
    "name": "ipython",
    "version": 3
   },
   "file_extension": ".py",
   "mimetype": "text/x-python",
   "name": "python",
   "nbconvert_exporter": "python",
   "pygments_lexer": "ipython3",
   "version": "3.8.5"
  }
 },
 "nbformat": 4,
 "nbformat_minor": 4
}
