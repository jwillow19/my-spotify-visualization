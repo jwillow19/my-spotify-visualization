{
 "cells": [
  {
   "cell_type": "code",
   "execution_count": 12,
   "metadata": {},
   "outputs": [],
   "source": [
    "import base64\n",
    "import requests\n",
    "import datetime"
   ]
  },
  {
   "cell_type": "code",
   "execution_count": 3,
   "metadata": {},
   "outputs": [],
   "source": [
    "client_id = 'e0e28223bd454165b3325a6fde65ddf4'\n",
    "client_secret = '4adf45b1909c4f4683923afc5f46605e'"
   ]
  },
  {
   "cell_type": "markdown",
   "metadata": {},
   "source": [
    "## Authorization Flow\n",
    "Read more here - https://developer.spotify.com/documentation/general/guides/authorization-guide/#client-credentials-flow"
   ]
  },
  {
   "cell_type": "code",
   "execution_count": 7,
   "metadata": {},
   "outputs": [
    {
     "data": {
      "text/plain": [
       "b'e0e28223bd454165b3325a6fde65ddf4:4adf45b1909c4f4683923afc5f46605e'"
      ]
     },
     "execution_count": 7,
     "metadata": {},
     "output_type": "execute_result"
    }
   ],
   "source": [
    "# Client credentials required to be base-64 encoded string.Format a string, encode it to type byte, and use base64 to encode to b64\n",
    "client_cred = f\"{client_id}:{client_secret}\"\n",
    "client_cred_b64 = base64.b64encode(client_cred.encode())\n",
    "\n",
    "# to decode a b64\n",
    "# base64.b64decode(client_cred_b64)"
   ]
  },
  {
   "cell_type": "code",
   "execution_count": 9,
   "metadata": {},
   "outputs": [],
   "source": [
    "token_endpoint = 'https://accounts.spotify.com/api/token'\n",
    "method = \"POST\"\n",
    "\n",
    "token_data = {\n",
    "    \"grant_type\": \"client_credentials\"\n",
    "}\n",
    "\n",
    "token_headers = {\n",
    "    \"Authorization\": f\"Basic {client_cred_b64.decode()}\"\n",
    "}"
   ]
  },
  {
   "cell_type": "code",
   "execution_count": 18,
   "metadata": {},
   "outputs": [
    {
     "name": "stdout",
     "output_type": "stream",
     "text": [
      "{'access_token': 'BQB6NhNO3wP5SCAmxG4998bH7TV5G0HK6xpRzzCtsbWoBl16RdRZ2wCapaD9-k1awbzuYYEJoxVVBT1bs1M', 'token_type': 'Bearer', 'expires_in': 3600, 'scope': ''}\n"
     ]
    },
    {
     "data": {
      "text/plain": [
       "200"
      ]
     },
     "execution_count": 18,
     "metadata": {},
     "output_type": "execute_result"
    }
   ],
   "source": [
    "r = requests.post(token_endpoint, data=token_data, headers=token_headers)\n",
    "print(r.json())\n",
    "valid_request = r.status_code\n"
   ]
  },
  {
   "cell_type": "code",
   "execution_count": null,
   "metadata": {},
   "outputs": [],
   "source": [
    "if valid_request in range(200, 299):\n",
    "    print(f\"Status Code: {valid_request}\")\n",
    "    now = datetime.datetime.now()\n",
    "    token_response = r.json()\n",
    "    access_token = token_response['access_token']\n",
    "    expires_in = token_response['expires_in'] # in seconds\n",
    "    expires = now + datetime.timedelta(seconds=expires_in) # use datetime to calculate the time of expiration\n",
    "\n",
    "    did_expire = expires < now\n",
    "    \n",
    "    print(f\"Token expires in {expires_in/60} mins, {expires}\")\n",
    "    print(now, expires_in, expires, did_expire)"
   ]
  }
 ],
 "metadata": {
  "kernelspec": {
   "display_name": "Python 3",
   "language": "python",
   "name": "python3"
  },
  "language_info": {
   "codemirror_mode": {
    "name": "ipython",
    "version": 3
   },
   "file_extension": ".py",
   "mimetype": "text/x-python",
   "name": "python",
   "nbconvert_exporter": "python",
   "pygments_lexer": "ipython3",
   "version": "3.8.5"
  }
 },
 "nbformat": 4,
 "nbformat_minor": 4
}
